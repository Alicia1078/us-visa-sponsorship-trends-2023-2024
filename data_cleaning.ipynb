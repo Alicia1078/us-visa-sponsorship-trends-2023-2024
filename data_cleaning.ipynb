{
 "cells": [
  {
   "cell_type": "code",
   "execution_count": 2,
   "id": "e30a651e-df3c-4e4c-9dd7-ba526f8c13aa",
   "metadata": {},
   "outputs": [],
   "source": [
    "import pandas as pd\n",
    "import numpy as np \n",
    "import matplotlib.pyplot as plt \n",
    "import warnings\n",
    "warnings.filterwarnings(\"ignore\")\n",
    "import seaborn as sns\n",
    "import re\n",
    "import us\n",
    "from rapidfuzz import fuzz, process"
   ]
  },
  {
   "attachments": {},
   "cell_type": "markdown",
   "id": "8712793b-cb49-4580-9729-6bea6f8f3946",
   "metadata": {},
   "source": [
    "Data source: U.S. Department of Labor, Performance Data – Office of Foreign Labor Certification (OFLC).   \n",
    "https://www.dol.gov/agencies/eta/foreign-labor/performance. "
   ]
  },
  {
   "cell_type": "markdown",
   "id": "1e43289a-044a-41b2-8467-e1dedf5907db",
   "metadata": {},
   "source": [
    "Merged quarterly U.S. visa datasets using pandas, removed duplicates, and exported a clean file for Tableau analysis."
   ]
  },
  {
   "cell_type": "code",
   "execution_count": 2,
   "id": "8fea7fe0-35fe-42e1-bab5-5e81f23df128",
   "metadata": {},
   "outputs": [],
   "source": [
    "files = [\n",
    "    \"LCA_Disclosure_Data_FY2023_Q4.xlsx\",\n",
    "    \"LCA_Disclosure_Data_FY2024_Q1.xlsx\",\n",
    "    \"LCA_Disclosure_Data_FY2024_Q2.xlsx\",\n",
    "    \"LCA_Disclosure_Data_FY2024_Q3.xlsx\",\n",
    "    \"LCA_Disclosure_Data_FY2024_Q4.xlsx\",\n",
    "]\n",
    "\n",
    "# Read and combine\n",
    "combined = pd.concat(\n",
    "    [pd.read_excel(file).assign(SourceFile=file) for file in files],\n",
    "    ignore_index=True\n",
    ")\n",
    "\n",
    "# Drop duplicates and reset index\n",
    "combined.drop_duplicates(inplace=True)\n",
    "combined.reset_index(drop=True, inplace=True)\n",
    "\n",
    "# Export csv file\n",
    "combined.to_csv(\"LCA_Disclosure_Combined.csv\", index=False)"
   ]
  },
  {
   "cell_type": "code",
   "execution_count": 3,
   "id": "60dd6a62-32bf-4343-b516-5c2cd5eb8b49",
   "metadata": {},
   "outputs": [
    {
     "data": {
      "text/plain": [
       "688976"
      ]
     },
     "execution_count": 3,
     "metadata": {},
     "output_type": "execute_result"
    }
   ],
   "source": [
    "df = pd.read_csv(\"LCA_Disclosure_Combined.csv\")\n",
    "df.shape[0] "
   ]
  },
  {
   "cell_type": "code",
   "execution_count": 4,
   "id": "966c2a77-1e59-49f7-a7f1-bf805389469d",
   "metadata": {},
   "outputs": [
    {
     "data": {
      "text/html": [
       "<div>\n",
       "<style scoped>\n",
       "    .dataframe tbody tr th:only-of-type {\n",
       "        vertical-align: middle;\n",
       "    }\n",
       "\n",
       "    .dataframe tbody tr th {\n",
       "        vertical-align: top;\n",
       "    }\n",
       "\n",
       "    .dataframe thead th {\n",
       "        text-align: right;\n",
       "    }\n",
       "</style>\n",
       "<table border=\"1\" class=\"dataframe\">\n",
       "  <thead>\n",
       "    <tr style=\"text-align: right;\">\n",
       "      <th></th>\n",
       "      <th>CASE_NUMBER</th>\n",
       "      <th>CASE_STATUS</th>\n",
       "      <th>RECEIVED_DATE</th>\n",
       "      <th>DECISION_DATE</th>\n",
       "      <th>ORIGINAL_CERT_DATE</th>\n",
       "      <th>VISA_CLASS</th>\n",
       "      <th>JOB_TITLE</th>\n",
       "      <th>SOC_CODE</th>\n",
       "      <th>SOC_TITLE</th>\n",
       "      <th>FULL_TIME_POSITION</th>\n",
       "      <th>...</th>\n",
       "      <th>STATUTORY_BASIS</th>\n",
       "      <th>APPENDIX_A_ATTACHED</th>\n",
       "      <th>PUBLIC_DISCLOSURE</th>\n",
       "      <th>PREPARER_LAST_NAME</th>\n",
       "      <th>PREPARER_FIRST_NAME</th>\n",
       "      <th>PREPARER_MIDDLE_INITIAL</th>\n",
       "      <th>PREPARER_BUSINESS_NAME</th>\n",
       "      <th>PREPARER_EMAIL</th>\n",
       "      <th>SourceFile</th>\n",
       "      <th>EMPLOYER_FEIN</th>\n",
       "    </tr>\n",
       "  </thead>\n",
       "  <tbody>\n",
       "    <tr>\n",
       "      <th>0</th>\n",
       "      <td>I-200-23244-317261</td>\n",
       "      <td>Certified - Withdrawn</td>\n",
       "      <td>2023-09-01</td>\n",
       "      <td>2023-09-30</td>\n",
       "      <td>2023-09-11</td>\n",
       "      <td>H-1B</td>\n",
       "      <td>Analyst, Business Sr</td>\n",
       "      <td>15-2031.00</td>\n",
       "      <td>Operations Research Analysts</td>\n",
       "      <td>Y</td>\n",
       "      <td>...</td>\n",
       "      <td>NaN</td>\n",
       "      <td>NaN</td>\n",
       "      <td>Disclose Business</td>\n",
       "      <td>NaN</td>\n",
       "      <td>NaN</td>\n",
       "      <td>NaN</td>\n",
       "      <td>NaN</td>\n",
       "      <td>NaN</td>\n",
       "      <td>LCA_Disclosure_Data_FY2023_Q4.xlsx</td>\n",
       "      <td>NaN</td>\n",
       "    </tr>\n",
       "    <tr>\n",
       "      <th>1</th>\n",
       "      <td>I-202-23242-306442</td>\n",
       "      <td>Certified - Withdrawn</td>\n",
       "      <td>2023-08-30</td>\n",
       "      <td>2023-09-30</td>\n",
       "      <td>2023-09-07</td>\n",
       "      <td>H-1B1 Singapore</td>\n",
       "      <td>Board Certified Behavior Analyst</td>\n",
       "      <td>19-3034.00</td>\n",
       "      <td>School Psychologists</td>\n",
       "      <td>Y</td>\n",
       "      <td>...</td>\n",
       "      <td>NaN</td>\n",
       "      <td>NaN</td>\n",
       "      <td>Disclose Business</td>\n",
       "      <td>NaN</td>\n",
       "      <td>NaN</td>\n",
       "      <td>NaN</td>\n",
       "      <td>NaN</td>\n",
       "      <td>NaN</td>\n",
       "      <td>LCA_Disclosure_Data_FY2023_Q4.xlsx</td>\n",
       "      <td>NaN</td>\n",
       "    </tr>\n",
       "    <tr>\n",
       "      <th>2</th>\n",
       "      <td>I-200-23242-308144</td>\n",
       "      <td>Certified - Withdrawn</td>\n",
       "      <td>2023-08-30</td>\n",
       "      <td>2023-09-30</td>\n",
       "      <td>2023-09-07</td>\n",
       "      <td>H-1B</td>\n",
       "      <td>Manager - Software Engineering</td>\n",
       "      <td>15-1252.00</td>\n",
       "      <td>Software Developers</td>\n",
       "      <td>Y</td>\n",
       "      <td>...</td>\n",
       "      <td>$60,000 or higher annual wage</td>\n",
       "      <td>NaN</td>\n",
       "      <td>Disclose Business</td>\n",
       "      <td>Sheppard</td>\n",
       "      <td>Kaitlyn (11606.425.22)</td>\n",
       "      <td>NaN</td>\n",
       "      <td>Berry Appleman &amp; Leiden LLP</td>\n",
       "      <td>ksheppard@bal.com</td>\n",
       "      <td>LCA_Disclosure_Data_FY2023_Q4.xlsx</td>\n",
       "      <td>NaN</td>\n",
       "    </tr>\n",
       "    <tr>\n",
       "      <th>3</th>\n",
       "      <td>I-200-23172-131625</td>\n",
       "      <td>Certified - Withdrawn</td>\n",
       "      <td>2023-06-21</td>\n",
       "      <td>2023-09-30</td>\n",
       "      <td>2023-06-28</td>\n",
       "      <td>H-1B</td>\n",
       "      <td>SOFTWARE DEVELOPER</td>\n",
       "      <td>15-1252.00</td>\n",
       "      <td>Software Developers</td>\n",
       "      <td>Y</td>\n",
       "      <td>...</td>\n",
       "      <td>$60,000 or higher annual wage</td>\n",
       "      <td>NaN</td>\n",
       "      <td>Disclose Business</td>\n",
       "      <td>NaN</td>\n",
       "      <td>NaN</td>\n",
       "      <td>NaN</td>\n",
       "      <td>NaN</td>\n",
       "      <td>NaN</td>\n",
       "      <td>LCA_Disclosure_Data_FY2023_Q4.xlsx</td>\n",
       "      <td>NaN</td>\n",
       "    </tr>\n",
       "    <tr>\n",
       "      <th>4</th>\n",
       "      <td>I-200-23170-125146</td>\n",
       "      <td>Certified - Withdrawn</td>\n",
       "      <td>2023-06-19</td>\n",
       "      <td>2023-09-30</td>\n",
       "      <td>2023-06-26</td>\n",
       "      <td>H-1B</td>\n",
       "      <td>SOFTWARE DEVELOPER</td>\n",
       "      <td>15-1252.00</td>\n",
       "      <td>Software Developers</td>\n",
       "      <td>Y</td>\n",
       "      <td>...</td>\n",
       "      <td>$60,000 or higher annual wage</td>\n",
       "      <td>NaN</td>\n",
       "      <td>Disclose Business</td>\n",
       "      <td>NaN</td>\n",
       "      <td>NaN</td>\n",
       "      <td>NaN</td>\n",
       "      <td>NaN</td>\n",
       "      <td>NaN</td>\n",
       "      <td>LCA_Disclosure_Data_FY2023_Q4.xlsx</td>\n",
       "      <td>NaN</td>\n",
       "    </tr>\n",
       "  </tbody>\n",
       "</table>\n",
       "<p>5 rows × 98 columns</p>\n",
       "</div>"
      ],
      "text/plain": [
       "          CASE_NUMBER            CASE_STATUS RECEIVED_DATE DECISION_DATE  \\\n",
       "0  I-200-23244-317261  Certified - Withdrawn    2023-09-01    2023-09-30   \n",
       "1  I-202-23242-306442  Certified - Withdrawn    2023-08-30    2023-09-30   \n",
       "2  I-200-23242-308144  Certified - Withdrawn    2023-08-30    2023-09-30   \n",
       "3  I-200-23172-131625  Certified - Withdrawn    2023-06-21    2023-09-30   \n",
       "4  I-200-23170-125146  Certified - Withdrawn    2023-06-19    2023-09-30   \n",
       "\n",
       "  ORIGINAL_CERT_DATE       VISA_CLASS                         JOB_TITLE  \\\n",
       "0         2023-09-11             H-1B              Analyst, Business Sr   \n",
       "1         2023-09-07  H-1B1 Singapore  Board Certified Behavior Analyst   \n",
       "2         2023-09-07             H-1B    Manager - Software Engineering   \n",
       "3         2023-06-28             H-1B                SOFTWARE DEVELOPER   \n",
       "4         2023-06-26             H-1B                SOFTWARE DEVELOPER   \n",
       "\n",
       "     SOC_CODE                     SOC_TITLE FULL_TIME_POSITION  ...  \\\n",
       "0  15-2031.00  Operations Research Analysts                  Y  ...   \n",
       "1  19-3034.00          School Psychologists                  Y  ...   \n",
       "2  15-1252.00           Software Developers                  Y  ...   \n",
       "3  15-1252.00           Software Developers                  Y  ...   \n",
       "4  15-1252.00           Software Developers                  Y  ...   \n",
       "\n",
       "                 STATUTORY_BASIS APPENDIX_A_ATTACHED  PUBLIC_DISCLOSURE  \\\n",
       "0                            NaN                 NaN  Disclose Business   \n",
       "1                            NaN                 NaN  Disclose Business   \n",
       "2  $60,000 or higher annual wage                 NaN  Disclose Business   \n",
       "3  $60,000 or higher annual wage                 NaN  Disclose Business   \n",
       "4  $60,000 or higher annual wage                 NaN  Disclose Business   \n",
       "\n",
       "   PREPARER_LAST_NAME     PREPARER_FIRST_NAME  PREPARER_MIDDLE_INITIAL  \\\n",
       "0                 NaN                     NaN                      NaN   \n",
       "1                 NaN                     NaN                      NaN   \n",
       "2            Sheppard  Kaitlyn (11606.425.22)                      NaN   \n",
       "3                 NaN                     NaN                      NaN   \n",
       "4                 NaN                     NaN                      NaN   \n",
       "\n",
       "        PREPARER_BUSINESS_NAME     PREPARER_EMAIL  \\\n",
       "0                          NaN                NaN   \n",
       "1                          NaN                NaN   \n",
       "2  Berry Appleman & Leiden LLP  ksheppard@bal.com   \n",
       "3                          NaN                NaN   \n",
       "4                          NaN                NaN   \n",
       "\n",
       "                           SourceFile EMPLOYER_FEIN  \n",
       "0  LCA_Disclosure_Data_FY2023_Q4.xlsx           NaN  \n",
       "1  LCA_Disclosure_Data_FY2023_Q4.xlsx           NaN  \n",
       "2  LCA_Disclosure_Data_FY2023_Q4.xlsx           NaN  \n",
       "3  LCA_Disclosure_Data_FY2023_Q4.xlsx           NaN  \n",
       "4  LCA_Disclosure_Data_FY2023_Q4.xlsx           NaN  \n",
       "\n",
       "[5 rows x 98 columns]"
      ]
     },
     "execution_count": 4,
     "metadata": {},
     "output_type": "execute_result"
    }
   ],
   "source": [
    "df.head()"
   ]
  },
  {
   "cell_type": "code",
   "execution_count": 5,
   "id": "989f36b8-c21f-463d-9a5a-76a10c057a8e",
   "metadata": {},
   "outputs": [
    {
     "data": {
      "text/plain": [
       "Index(['CASE_NUMBER', 'CASE_STATUS', 'RECEIVED_DATE', 'DECISION_DATE',\n",
       "       'ORIGINAL_CERT_DATE', 'VISA_CLASS', 'JOB_TITLE', 'SOC_CODE',\n",
       "       'SOC_TITLE', 'FULL_TIME_POSITION', 'BEGIN_DATE', 'END_DATE',\n",
       "       'TOTAL_WORKER_POSITIONS', 'NEW_EMPLOYMENT', 'CONTINUED_EMPLOYMENT',\n",
       "       'CHANGE_PREVIOUS_EMPLOYMENT', 'NEW_CONCURRENT_EMPLOYMENT',\n",
       "       'CHANGE_EMPLOYER', 'AMENDED_PETITION', 'EMPLOYER_NAME',\n",
       "       'TRADE_NAME_DBA', 'EMPLOYER_ADDRESS1', 'EMPLOYER_ADDRESS2',\n",
       "       'EMPLOYER_CITY', 'EMPLOYER_STATE', 'EMPLOYER_POSTAL_CODE',\n",
       "       'EMPLOYER_COUNTRY', 'EMPLOYER_PROVINCE', 'EMPLOYER_PHONE',\n",
       "       'EMPLOYER_PHONE_EXT', 'NAICS_CODE', 'EMPLOYER_POC_LAST_NAME',\n",
       "       'EMPLOYER_POC_FIRST_NAME', 'EMPLOYER_POC_MIDDLE_NAME',\n",
       "       'EMPLOYER_POC_JOB_TITLE', 'EMPLOYER_POC_ADDRESS1',\n",
       "       'EMPLOYER_POC_ADDRESS2', 'EMPLOYER_POC_CITY', 'EMPLOYER_POC_STATE',\n",
       "       'EMPLOYER_POC_POSTAL_CODE', 'EMPLOYER_POC_COUNTRY',\n",
       "       'EMPLOYER_POC_PROVINCE', 'EMPLOYER_POC_PHONE', 'EMPLOYER_POC_PHONE_EXT',\n",
       "       'EMPLOYER_POC_EMAIL', 'AGENT_REPRESENTING_EMPLOYER',\n",
       "       'AGENT_ATTORNEY_LAST_NAME', 'AGENT_ATTORNEY_FIRST_NAME',\n",
       "       'AGENT_ATTORNEY_MIDDLE_NAME', 'AGENT_ATTORNEY_ADDRESS1',\n",
       "       'AGENT_ATTORNEY_ADDRESS2', 'AGENT_ATTORNEY_CITY',\n",
       "       'AGENT_ATTORNEY_STATE', 'AGENT_ATTORNEY_POSTAL_CODE',\n",
       "       'AGENT_ATTORNEY_COUNTRY', 'AGENT_ATTORNEY_PROVINCE',\n",
       "       'AGENT_ATTORNEY_PHONE', 'AGENT_ATTORNEY_PHONE_EXT',\n",
       "       'AGENT_ATTORNEY_EMAIL_ADDRESS', 'LAWFIRM_NAME_BUSINESS_NAME',\n",
       "       'STATE_OF_HIGHEST_COURT', 'NAME_OF_HIGHEST_STATE_COURT',\n",
       "       'WORKSITE_WORKERS', 'SECONDARY_ENTITY',\n",
       "       'SECONDARY_ENTITY_BUSINESS_NAME', 'WORKSITE_ADDRESS1',\n",
       "       'WORKSITE_ADDRESS2', 'WORKSITE_CITY', 'WORKSITE_COUNTY',\n",
       "       'WORKSITE_STATE', 'WORKSITE_POSTAL_CODE', 'WAGE_RATE_OF_PAY_FROM',\n",
       "       'WAGE_RATE_OF_PAY_TO', 'WAGE_UNIT_OF_PAY', 'PREVAILING_WAGE',\n",
       "       'PW_UNIT_OF_PAY', 'PW_TRACKING_NUMBER', 'PW_WAGE_LEVEL', 'PW_OES_YEAR',\n",
       "       'PW_OTHER_SOURCE', 'PW_OTHER_YEAR', 'PW_SURVEY_PUBLISHER',\n",
       "       'PW_SURVEY_NAME', 'TOTAL_WORKSITE_LOCATIONS', 'AGREE_TO_LC_STATEMENT',\n",
       "       'H_1B_DEPENDENT', 'WILLFUL_VIOLATOR', 'SUPPORT_H1B', 'STATUTORY_BASIS',\n",
       "       'APPENDIX_A_ATTACHED', 'PUBLIC_DISCLOSURE', 'PREPARER_LAST_NAME',\n",
       "       'PREPARER_FIRST_NAME', 'PREPARER_MIDDLE_INITIAL',\n",
       "       'PREPARER_BUSINESS_NAME', 'PREPARER_EMAIL', 'SourceFile',\n",
       "       'EMPLOYER_FEIN'],\n",
       "      dtype='object')"
      ]
     },
     "execution_count": 5,
     "metadata": {},
     "output_type": "execute_result"
    }
   ],
   "source": [
    "df.columns"
   ]
  },
  {
   "cell_type": "code",
   "execution_count": 6,
   "id": "4c04563e-0181-4944-8a15-54187b559d95",
   "metadata": {},
   "outputs": [
    {
     "data": {
      "text/html": [
       "<div>\n",
       "<style scoped>\n",
       "    .dataframe tbody tr th:only-of-type {\n",
       "        vertical-align: middle;\n",
       "    }\n",
       "\n",
       "    .dataframe tbody tr th {\n",
       "        vertical-align: top;\n",
       "    }\n",
       "\n",
       "    .dataframe thead th {\n",
       "        text-align: right;\n",
       "    }\n",
       "</style>\n",
       "<table border=\"1\" class=\"dataframe\">\n",
       "  <thead>\n",
       "    <tr style=\"text-align: right;\">\n",
       "      <th></th>\n",
       "      <th>CASE_NUMBER</th>\n",
       "      <th>CASE_STATUS</th>\n",
       "      <th>RECEIVED_DATE</th>\n",
       "      <th>DECISION_DATE</th>\n",
       "      <th>ORIGINAL_CERT_DATE</th>\n",
       "      <th>VISA_CLASS</th>\n",
       "      <th>JOB_TITLE</th>\n",
       "      <th>SOC_CODE</th>\n",
       "      <th>SOC_TITLE</th>\n",
       "      <th>FULL_TIME_POSITION</th>\n",
       "      <th>...</th>\n",
       "      <th>EMPLOYER_STATE</th>\n",
       "      <th>EMPLOYER_POSTAL_CODE</th>\n",
       "      <th>EMPLOYER_COUNTRY</th>\n",
       "      <th>WAGE_RATE_OF_PAY_FROM</th>\n",
       "      <th>WAGE_RATE_OF_PAY_TO</th>\n",
       "      <th>WAGE_UNIT_OF_PAY</th>\n",
       "      <th>PREVAILING_WAGE</th>\n",
       "      <th>PW_UNIT_OF_PAY</th>\n",
       "      <th>PW_WAGE_LEVEL</th>\n",
       "      <th>PW_OTHER_SOURCE</th>\n",
       "    </tr>\n",
       "  </thead>\n",
       "  <tbody>\n",
       "    <tr>\n",
       "      <th>0</th>\n",
       "      <td>I-200-23244-317261</td>\n",
       "      <td>Certified - Withdrawn</td>\n",
       "      <td>2023-09-01</td>\n",
       "      <td>2023-09-30</td>\n",
       "      <td>2023-09-11</td>\n",
       "      <td>H-1B</td>\n",
       "      <td>Analyst, Business Sr</td>\n",
       "      <td>15-2031.00</td>\n",
       "      <td>Operations Research Analysts</td>\n",
       "      <td>Y</td>\n",
       "      <td>...</td>\n",
       "      <td>FL</td>\n",
       "      <td>33431</td>\n",
       "      <td>UNITED STATES OF AMERICA</td>\n",
       "      <td>96720.0</td>\n",
       "      <td>136411.0</td>\n",
       "      <td>Year</td>\n",
       "      <td>96720.0</td>\n",
       "      <td>Year</td>\n",
       "      <td>II</td>\n",
       "      <td>NaN</td>\n",
       "    </tr>\n",
       "    <tr>\n",
       "      <th>1</th>\n",
       "      <td>I-202-23242-306442</td>\n",
       "      <td>Certified - Withdrawn</td>\n",
       "      <td>2023-08-30</td>\n",
       "      <td>2023-09-30</td>\n",
       "      <td>2023-09-07</td>\n",
       "      <td>H-1B1 Singapore</td>\n",
       "      <td>Board Certified Behavior Analyst</td>\n",
       "      <td>19-3034.00</td>\n",
       "      <td>School Psychologists</td>\n",
       "      <td>Y</td>\n",
       "      <td>...</td>\n",
       "      <td>CA</td>\n",
       "      <td>94566</td>\n",
       "      <td>UNITED STATES OF AMERICA</td>\n",
       "      <td>68182.0</td>\n",
       "      <td>NaN</td>\n",
       "      <td>Year</td>\n",
       "      <td>68182.0</td>\n",
       "      <td>Year</td>\n",
       "      <td>I</td>\n",
       "      <td>NaN</td>\n",
       "    </tr>\n",
       "    <tr>\n",
       "      <th>2</th>\n",
       "      <td>I-200-23242-308144</td>\n",
       "      <td>Certified - Withdrawn</td>\n",
       "      <td>2023-08-30</td>\n",
       "      <td>2023-09-30</td>\n",
       "      <td>2023-09-07</td>\n",
       "      <td>H-1B</td>\n",
       "      <td>Manager - Software Engineering</td>\n",
       "      <td>15-1252.00</td>\n",
       "      <td>Software Developers</td>\n",
       "      <td>Y</td>\n",
       "      <td>...</td>\n",
       "      <td>IL</td>\n",
       "      <td>60606</td>\n",
       "      <td>UNITED STATES OF AMERICA</td>\n",
       "      <td>131533.0</td>\n",
       "      <td>NaN</td>\n",
       "      <td>Year</td>\n",
       "      <td>111821.0</td>\n",
       "      <td>Year</td>\n",
       "      <td>III</td>\n",
       "      <td>NaN</td>\n",
       "    </tr>\n",
       "    <tr>\n",
       "      <th>3</th>\n",
       "      <td>I-200-23172-131625</td>\n",
       "      <td>Certified - Withdrawn</td>\n",
       "      <td>2023-06-21</td>\n",
       "      <td>2023-09-30</td>\n",
       "      <td>2023-06-28</td>\n",
       "      <td>H-1B</td>\n",
       "      <td>SOFTWARE DEVELOPER</td>\n",
       "      <td>15-1252.00</td>\n",
       "      <td>Software Developers</td>\n",
       "      <td>Y</td>\n",
       "      <td>...</td>\n",
       "      <td>GA</td>\n",
       "      <td>30076-5648</td>\n",
       "      <td>UNITED STATES OF AMERICA</td>\n",
       "      <td>80150.0</td>\n",
       "      <td>80200.0</td>\n",
       "      <td>Year</td>\n",
       "      <td>80101.0</td>\n",
       "      <td>Year</td>\n",
       "      <td>I</td>\n",
       "      <td>NaN</td>\n",
       "    </tr>\n",
       "    <tr>\n",
       "      <th>4</th>\n",
       "      <td>I-200-23170-125146</td>\n",
       "      <td>Certified - Withdrawn</td>\n",
       "      <td>2023-06-19</td>\n",
       "      <td>2023-09-30</td>\n",
       "      <td>2023-06-26</td>\n",
       "      <td>H-1B</td>\n",
       "      <td>SOFTWARE DEVELOPER</td>\n",
       "      <td>15-1252.00</td>\n",
       "      <td>Software Developers</td>\n",
       "      <td>Y</td>\n",
       "      <td>...</td>\n",
       "      <td>TX</td>\n",
       "      <td>30076-5648</td>\n",
       "      <td>UNITED STATES OF AMERICA</td>\n",
       "      <td>99100.0</td>\n",
       "      <td>99200.0</td>\n",
       "      <td>Year</td>\n",
       "      <td>99008.0</td>\n",
       "      <td>Year</td>\n",
       "      <td>II</td>\n",
       "      <td>NaN</td>\n",
       "    </tr>\n",
       "  </tbody>\n",
       "</table>\n",
       "<p>5 rows × 32 columns</p>\n",
       "</div>"
      ],
      "text/plain": [
       "          CASE_NUMBER            CASE_STATUS RECEIVED_DATE DECISION_DATE  \\\n",
       "0  I-200-23244-317261  Certified - Withdrawn    2023-09-01    2023-09-30   \n",
       "1  I-202-23242-306442  Certified - Withdrawn    2023-08-30    2023-09-30   \n",
       "2  I-200-23242-308144  Certified - Withdrawn    2023-08-30    2023-09-30   \n",
       "3  I-200-23172-131625  Certified - Withdrawn    2023-06-21    2023-09-30   \n",
       "4  I-200-23170-125146  Certified - Withdrawn    2023-06-19    2023-09-30   \n",
       "\n",
       "  ORIGINAL_CERT_DATE       VISA_CLASS                         JOB_TITLE  \\\n",
       "0         2023-09-11             H-1B              Analyst, Business Sr   \n",
       "1         2023-09-07  H-1B1 Singapore  Board Certified Behavior Analyst   \n",
       "2         2023-09-07             H-1B    Manager - Software Engineering   \n",
       "3         2023-06-28             H-1B                SOFTWARE DEVELOPER   \n",
       "4         2023-06-26             H-1B                SOFTWARE DEVELOPER   \n",
       "\n",
       "     SOC_CODE                     SOC_TITLE FULL_TIME_POSITION  ...  \\\n",
       "0  15-2031.00  Operations Research Analysts                  Y  ...   \n",
       "1  19-3034.00          School Psychologists                  Y  ...   \n",
       "2  15-1252.00           Software Developers                  Y  ...   \n",
       "3  15-1252.00           Software Developers                  Y  ...   \n",
       "4  15-1252.00           Software Developers                  Y  ...   \n",
       "\n",
       "  EMPLOYER_STATE EMPLOYER_POSTAL_CODE          EMPLOYER_COUNTRY  \\\n",
       "0             FL                33431  UNITED STATES OF AMERICA   \n",
       "1             CA                94566  UNITED STATES OF AMERICA   \n",
       "2             IL                60606  UNITED STATES OF AMERICA   \n",
       "3             GA           30076-5648  UNITED STATES OF AMERICA   \n",
       "4             TX           30076-5648  UNITED STATES OF AMERICA   \n",
       "\n",
       "   WAGE_RATE_OF_PAY_FROM  WAGE_RATE_OF_PAY_TO  WAGE_UNIT_OF_PAY  \\\n",
       "0                96720.0             136411.0              Year   \n",
       "1                68182.0                  NaN              Year   \n",
       "2               131533.0                  NaN              Year   \n",
       "3                80150.0              80200.0              Year   \n",
       "4                99100.0              99200.0              Year   \n",
       "\n",
       "   PREVAILING_WAGE  PW_UNIT_OF_PAY  PW_WAGE_LEVEL PW_OTHER_SOURCE  \n",
       "0          96720.0            Year             II             NaN  \n",
       "1          68182.0            Year              I             NaN  \n",
       "2         111821.0            Year            III             NaN  \n",
       "3          80101.0            Year              I             NaN  \n",
       "4          99008.0            Year             II             NaN  \n",
       "\n",
       "[5 rows x 32 columns]"
      ]
     },
     "execution_count": 6,
     "metadata": {},
     "output_type": "execute_result"
    }
   ],
   "source": [
    "columns_to_keep = [\n",
    "    'CASE_NUMBER', 'CASE_STATUS', 'RECEIVED_DATE', 'DECISION_DATE', 'ORIGINAL_CERT_DATE',\n",
    "    'VISA_CLASS', 'JOB_TITLE', 'SOC_CODE', 'SOC_TITLE', 'FULL_TIME_POSITION',\n",
    "    'BEGIN_DATE', 'END_DATE', 'TOTAL_WORKER_POSITIONS', 'NEW_EMPLOYMENT',\n",
    "    'CONTINUED_EMPLOYMENT', 'CHANGE_PREVIOUS_EMPLOYMENT', 'NEW_CONCURRENT_EMPLOYMENT',\n",
    "    'CHANGE_EMPLOYER', 'AMENDED_PETITION',\n",
    "    'EMPLOYER_ADDRESS1', 'EMPLOYER_CITY', 'EMPLOYER_STATE', 'EMPLOYER_POSTAL_CODE',\n",
    "    'EMPLOYER_COUNTRY',\n",
    "    'WAGE_RATE_OF_PAY_FROM', 'WAGE_RATE_OF_PAY_TO', 'WAGE_UNIT_OF_PAY',\n",
    "    'PREVAILING_WAGE', 'PW_UNIT_OF_PAY',\n",
    "    'EMPLOYER_FEIN'\n",
    "]\n",
    "\n",
    "df = df[columns_to_keep]\n",
    "df.head()"
   ]
  },
  {
   "cell_type": "code",
   "execution_count": 7,
   "id": "e5083027-21df-4227-aaab-a5f153c23527",
   "metadata": {},
   "outputs": [
    {
     "data": {
      "text/plain": [
       "CASE_NUMBER                        0\n",
       "CASE_STATUS                        0\n",
       "RECEIVED_DATE                      0\n",
       "DECISION_DATE                      0\n",
       "ORIGINAL_CERT_DATE            647042\n",
       "VISA_CLASS                         0\n",
       "JOB_TITLE                          0\n",
       "SOC_CODE                           0\n",
       "SOC_TITLE                          0\n",
       "FULL_TIME_POSITION                 0\n",
       "BEGIN_DATE                         0\n",
       "END_DATE                           0\n",
       "TOTAL_WORKER_POSITIONS             0\n",
       "NEW_EMPLOYMENT                     0\n",
       "CONTINUED_EMPLOYMENT               0\n",
       "CHANGE_PREVIOUS_EMPLOYMENT         0\n",
       "NEW_CONCURRENT_EMPLOYMENT          0\n",
       "CHANGE_EMPLOYER                    0\n",
       "AMENDED_PETITION                   0\n",
       "EMPLOYER_NAME                      0\n",
       "EMPLOYER_ADDRESS1                  0\n",
       "EMPLOYER_CITY                      0\n",
       "EMPLOYER_STATE                   169\n",
       "EMPLOYER_POSTAL_CODE               0\n",
       "EMPLOYER_COUNTRY                   0\n",
       "WAGE_RATE_OF_PAY_FROM              0\n",
       "WAGE_RATE_OF_PAY_TO           466861\n",
       "WAGE_UNIT_OF_PAY                   0\n",
       "PREVAILING_WAGE                    0\n",
       "PW_UNIT_OF_PAY                     0\n",
       "PW_WAGE_LEVEL                  51822\n",
       "PW_OTHER_SOURCE               641780\n",
       "dtype: int64"
      ]
     },
     "execution_count": 7,
     "metadata": {},
     "output_type": "execute_result"
    }
   ],
   "source": [
    "df.isna().sum()"
   ]
  },
  {
   "cell_type": "markdown",
   "id": "9807bbe0-7c19-4446-beac-097ac1476c55",
   "metadata": {},
   "source": [
    "#### **CASE STATUS**"
   ]
  },
  {
   "cell_type": "code",
   "execution_count": 8,
   "id": "dfc9f5dd-4597-45b0-97ee-98d076d345e5",
   "metadata": {},
   "outputs": [
    {
     "data": {
      "text/plain": [
       "CASE_STATUS\n",
       "Certified                630745\n",
       "Certified - Withdrawn     41934\n",
       "Withdrawn                 11296\n",
       "Denied                     5001\n",
       "Name: count, dtype: int64"
      ]
     },
     "execution_count": 8,
     "metadata": {},
     "output_type": "execute_result"
    }
   ],
   "source": [
    "# Check CASE_STATUS \n",
    "df['CASE_STATUS'].value_counts()"
   ]
  },
  {
   "cell_type": "markdown",
   "id": "c21960c4-1be1-4dde-a6af-4ee391c37882",
   "metadata": {},
   "source": [
    "#### **Dates**"
   ]
  },
  {
   "cell_type": "code",
   "execution_count": 9,
   "id": "db181fdc-7272-43b7-8e14-adc31d86d7b9",
   "metadata": {},
   "outputs": [],
   "source": [
    "# Clean and standardize date columns, considering US data format\n",
    "df['RECEIVED_DATE'] = pd.to_datetime(df['RECEIVED_DATE'], format='%Y-%m-%d', errors='coerce')\n",
    "df['DECISION_DATE'] = pd.to_datetime(df['DECISION_DATE'], format='%Y-%m-%d', errors='coerce')"
   ]
  },
  {
   "cell_type": "code",
   "execution_count": 10,
   "id": "d0fd12a0-b272-4035-97aa-e77bfff6adb1",
   "metadata": {},
   "outputs": [
    {
     "data": {
      "text/plain": [
       "0"
      ]
     },
     "execution_count": 10,
     "metadata": {},
     "output_type": "execute_result"
    }
   ],
   "source": [
    "df['RECEIVED_DATE'].isna().sum()"
   ]
  },
  {
   "cell_type": "code",
   "execution_count": 11,
   "id": "9257ff66-1bba-4926-afc3-fae6cce673e2",
   "metadata": {},
   "outputs": [
    {
     "data": {
      "text/plain": [
       "0"
      ]
     },
     "execution_count": 11,
     "metadata": {},
     "output_type": "execute_result"
    }
   ],
   "source": [
    "df['DECISION_DATE'].isna().sum()"
   ]
  },
  {
   "cell_type": "code",
   "execution_count": 12,
   "id": "3e75a764-8b65-4791-ac80-6e22e1974068",
   "metadata": {},
   "outputs": [
    {
     "data": {
      "text/html": [
       "<div>\n",
       "<style scoped>\n",
       "    .dataframe tbody tr th:only-of-type {\n",
       "        vertical-align: middle;\n",
       "    }\n",
       "\n",
       "    .dataframe tbody tr th {\n",
       "        vertical-align: top;\n",
       "    }\n",
       "\n",
       "    .dataframe thead th {\n",
       "        text-align: right;\n",
       "    }\n",
       "</style>\n",
       "<table border=\"1\" class=\"dataframe\">\n",
       "  <thead>\n",
       "    <tr style=\"text-align: right;\">\n",
       "      <th></th>\n",
       "      <th>RECEIVED_DATE</th>\n",
       "      <th>DECISION_DATE</th>\n",
       "    </tr>\n",
       "  </thead>\n",
       "  <tbody>\n",
       "  </tbody>\n",
       "</table>\n",
       "</div>"
      ],
      "text/plain": [
       "Empty DataFrame\n",
       "Columns: [RECEIVED_DATE, DECISION_DATE]\n",
       "Index: []"
      ]
     },
     "execution_count": 12,
     "metadata": {},
     "output_type": "execute_result"
    }
   ],
   "source": [
    "# Need to ensure DECISION_DATE later than RECEIVED_DATE\n",
    "invalid_date_rows = df[df['RECEIVED_DATE'] > df['DECISION_DATE']]\n",
    "invalid_date_rows[['RECEIVED_DATE', 'DECISION_DATE']]"
   ]
  },
  {
   "cell_type": "code",
   "execution_count": 13,
   "id": "663057aa-fcca-480e-afa7-6db3d2fd9104",
   "metadata": {},
   "outputs": [],
   "source": [
    "# Clean ORIGINAL_CERT_DATE\n",
    "df['ORIGINAL_CERT_DATE'] = pd.to_datetime(df['ORIGINAL_CERT_DATE'], format='%Y-%m-%d', errors='coerce')"
   ]
  },
  {
   "cell_type": "code",
   "execution_count": 14,
   "id": "99443b2d-fa4f-4c07-bcb5-6e4b6271dac1",
   "metadata": {},
   "outputs": [
    {
     "data": {
      "text/html": [
       "<div>\n",
       "<style scoped>\n",
       "    .dataframe tbody tr th:only-of-type {\n",
       "        vertical-align: middle;\n",
       "    }\n",
       "\n",
       "    .dataframe tbody tr th {\n",
       "        vertical-align: top;\n",
       "    }\n",
       "\n",
       "    .dataframe thead th {\n",
       "        text-align: right;\n",
       "    }\n",
       "</style>\n",
       "<table border=\"1\" class=\"dataframe\">\n",
       "  <thead>\n",
       "    <tr style=\"text-align: right;\">\n",
       "      <th></th>\n",
       "      <th>RECEIVED_DATE</th>\n",
       "      <th>DECISION_DATE</th>\n",
       "      <th>ORIGINAL_CERT_DATE</th>\n",
       "    </tr>\n",
       "  </thead>\n",
       "  <tbody>\n",
       "  </tbody>\n",
       "</table>\n",
       "</div>"
      ],
      "text/plain": [
       "Empty DataFrame\n",
       "Columns: [RECEIVED_DATE, DECISION_DATE, ORIGINAL_CERT_DATE]\n",
       "Index: []"
      ]
     },
     "execution_count": 14,
     "metadata": {},
     "output_type": "execute_result"
    }
   ],
   "source": [
    "invalid_cert_rows = df[\n",
    "    (df['ORIGINAL_CERT_DATE'] < df['RECEIVED_DATE']) |\n",
    "    (df['ORIGINAL_CERT_DATE'] > df['DECISION_DATE'])\n",
    "]\n",
    "\n",
    "invalid_date_rows[['RECEIVED_DATE', 'DECISION_DATE', 'ORIGINAL_CERT_DATE']]"
   ]
  },
  {
   "cell_type": "markdown",
   "id": "edd9edf2-8a80-43a7-9d99-2287677bdf02",
   "metadata": {},
   "source": [
    "#### **VISA CLASS** "
   ]
  },
  {
   "cell_type": "code",
   "execution_count": 15,
   "id": "039f9eb6-8102-4ec4-bf61-1bc3f8a9ae74",
   "metadata": {},
   "outputs": [
    {
     "data": {
      "text/plain": [
       "VISA_CLASS\n",
       "H-1B               671183\n",
       "E-3 Australian      13066\n",
       "H-1B1 Chile          2851\n",
       "H-1B1 Singapore      1876\n",
       "Name: count, dtype: int64"
      ]
     },
     "execution_count": 15,
     "metadata": {},
     "output_type": "execute_result"
    }
   ],
   "source": [
    "# Check VISA_CLASS  \n",
    "df['VISA_CLASS'].value_counts()"
   ]
  },
  {
   "cell_type": "markdown",
   "id": "ae3ba45e-c6f8-44c8-b681-4e0a9f50d9ec",
   "metadata": {},
   "source": [
    "#### **SOC_CODE and SOC_TITLE**"
   ]
  },
  {
   "cell_type": "code",
   "execution_count": 16,
   "id": "f53c7abd-aea9-48b0-b35e-853949a5800f",
   "metadata": {},
   "outputs": [],
   "source": [
    "# Normalize SOC_TITLE with proper capitalisation\n",
    "df['SOC_TITLE'] = df['SOC_TITLE'].str.title().str.strip()"
   ]
  },
  {
   "cell_type": "code",
   "execution_count": 17,
   "id": "42dbfdf6-f28e-43b4-b425-1df633de0e46",
   "metadata": {},
   "outputs": [
    {
     "data": {
      "text/plain": [
       "SOC_TITLE\n",
       "Software Developers                                213068\n",
       "Computer Systems Engineers/Architects               42579\n",
       "Information Technology Project Managers             24478\n",
       "Computer Systems Analysts                           23753\n",
       "Software Quality Assurance Analysts And Testers     21520\n",
       "Name: count, dtype: int64"
      ]
     },
     "execution_count": 17,
     "metadata": {},
     "output_type": "execute_result"
    }
   ],
   "source": [
    "df['SOC_TITLE'].value_counts().head()"
   ]
  },
  {
   "cell_type": "code",
   "execution_count": 18,
   "id": "5e5e69c6-cc3f-4b94-91dd-a3d8dd005766",
   "metadata": {},
   "outputs": [],
   "source": [
    "# Only add '.00' if it's missing\n",
    "df['SOC_CODE'] = df['SOC_CODE'].astype(str).str.strip()\n",
    "df['SOC_CODE'] = df['SOC_CODE'].apply(lambda x: x if '.' in x else x + '.00')"
   ]
  },
  {
   "cell_type": "code",
   "execution_count": 19,
   "id": "04ffe90b-d47a-472d-9a94-8e2884c62534",
   "metadata": {},
   "outputs": [
    {
     "data": {
      "text/plain": [
       "SOC_CODE\n",
       "11-1011.00     2\n",
       "11-1021.00     3\n",
       "11-2021.00     2\n",
       "11-2022.00     2\n",
       "11-3021.00    10\n",
       "              ..\n",
       "41-3031.00     2\n",
       "41-4011.00     2\n",
       "41-4012.00     2\n",
       "41-9031.00     2\n",
       "53-2011.00     2\n",
       "Name: SOC_TITLE, Length: 170, dtype: int64"
      ]
     },
     "execution_count": 19,
     "metadata": {},
     "output_type": "execute_result"
    }
   ],
   "source": [
    "# Check SOC_TITLE consistency\n",
    "df.groupby('SOC_CODE')['SOC_TITLE'].nunique().loc[lambda x: x > 1]"
   ]
  },
  {
   "cell_type": "code",
   "execution_count": 20,
   "id": "a9f648b3-ee09-4d9a-8955-dfdea733324b",
   "metadata": {},
   "outputs": [],
   "source": [
    "# Take the most frequent SOC title names\n",
    "preferred_titles = (\n",
    "    df.groupby(['SOC_CODE', 'SOC_TITLE'])\n",
    "      .size()\n",
    "      .reset_index(name='count')\n",
    "      .sort_values(['SOC_CODE', 'count'], ascending=[True, False])\n",
    "      .drop_duplicates('SOC_CODE')\n",
    "      .set_index('SOC_CODE')['SOC_TITLE']\n",
    ")\n",
    "\n",
    "df['SOC_TITLE'] = df['SOC_CODE'].map(preferred_titles)"
   ]
  },
  {
   "cell_type": "code",
   "execution_count": 21,
   "id": "9693d5b4-b666-48be-b9c8-7b0e8726c02e",
   "metadata": {},
   "outputs": [
    {
     "data": {
      "text/plain": [
       "Series([], Name: SOC_TITLE, dtype: int64)"
      ]
     },
     "execution_count": 21,
     "metadata": {},
     "output_type": "execute_result"
    }
   ],
   "source": [
    "df.groupby('SOC_CODE')['SOC_TITLE'].nunique().loc[lambda x: x > 1]"
   ]
  },
  {
   "cell_type": "markdown",
   "id": "57d840a6-0962-44cd-818a-67555ac3daf4",
   "metadata": {},
   "source": [
    "#### **EMPLOYER NAME**"
   ]
  },
  {
   "cell_type": "code",
   "execution_count": 22,
   "id": "b2c4574d-fcc8-49fb-b9d6-131fd3c267c1",
   "metadata": {},
   "outputs": [],
   "source": [
    "df['EMPLOYER_NAME'] = df['EMPLOYER_NAME'].str.strip().str.upper()"
   ]
  },
  {
   "cell_type": "code",
   "execution_count": 23,
   "id": "a80c76af-6546-4d23-80c4-e41d84fa0d7b",
   "metadata": {},
   "outputs": [
    {
     "data": {
      "text/plain": [
       "EMPLOYER_NAME\n",
       "AMAZON.COM SERVICES LLC                   17099\n",
       "COGNIZANT TECHNOLOGY SOLUTIONS US CORP    14712\n",
       "ERNST & YOUNG U.S. LLP                    11523\n",
       "MICROSOFT CORPORATION                     11404\n",
       "TATA CONSULTANCY SERVICES LIMITED         11203\n",
       "GOOGLE LLC                                10583\n",
       "INFOSYS LIMITED                            7947\n",
       "HCL AMERICA INC                            4896\n",
       "WAL-MART ASSOCIATES, INC.                  4840\n",
       "APPLE INC.                                 4724\n",
       "Name: count, dtype: int64"
      ]
     },
     "execution_count": 23,
     "metadata": {},
     "output_type": "execute_result"
    }
   ],
   "source": [
    "df['EMPLOYER_NAME'].value_counts().head(10)"
   ]
  },
  {
   "cell_type": "markdown",
   "id": "9e240c9c-97a7-450e-b6c9-f53ed1bbfcd2",
   "metadata": {},
   "source": [
    "#### **Geography**"
   ]
  },
  {
   "cell_type": "code",
   "execution_count": 24,
   "id": "f1856e40-d2f8-4f3c-8f8e-04c94ed06adb",
   "metadata": {},
   "outputs": [
    {
     "data": {
      "text/plain": [
       "EMPLOYER_COUNTRY\n",
       "UNITED STATES OF AMERICA    688807\n",
       "GEORGIA                         92\n",
       "AUSTRALIA                       35\n",
       "INDIA                           21\n",
       "UNITED KINGDOM                   4\n",
       "CANADA                           3\n",
       "ANGOLA                           3\n",
       "ALBANIA                          2\n",
       "ISRAEL                           1\n",
       "UNITED ARAB EMIRATES             1\n",
       "CHINA                            1\n",
       "BARBADOS                         1\n",
       "MEXICO                           1\n",
       "BELGIUM                          1\n",
       "CHILE                            1\n",
       "AFGHANISTAN                      1\n",
       "NAMIBIA                          1\n",
       "Name: count, dtype: int64"
      ]
     },
     "execution_count": 24,
     "metadata": {},
     "output_type": "execute_result"
    }
   ],
   "source": [
    "df['EMPLOYER_COUNTRY'].value_counts()"
   ]
  },
  {
   "cell_type": "code",
   "execution_count": 25,
   "id": "8b70eb7b-0a80-4fce-9236-eb5f5e34f6c5",
   "metadata": {},
   "outputs": [],
   "source": [
    "# Only concider US locations\n",
    "df = df[df['EMPLOYER_COUNTRY'] == 'UNITED STATES OF AMERICA'] "
   ]
  },
  {
   "cell_type": "code",
   "execution_count": 26,
   "id": "7754ecf8-1ea2-469d-b2ce-f7ff3073b423",
   "metadata": {},
   "outputs": [
    {
     "data": {
      "text/plain": [
       "EMPLOYER_POSTAL_CODE\n",
       "30228         1\n",
       "02842         1\n",
       "760405073     1\n",
       "47660         1\n",
       "45211         1\n",
       "07843         1\n",
       "27836         1\n",
       "06115         1\n",
       "33598         1\n",
       "80210-1503    1\n",
       "Name: count, dtype: int64"
      ]
     },
     "execution_count": 26,
     "metadata": {},
     "output_type": "execute_result"
    }
   ],
   "source": [
    "df['EMPLOYER_POSTAL_CODE'].value_counts().tail(10)"
   ]
  },
  {
   "cell_type": "code",
   "execution_count": 27,
   "id": "8d25f681-dfee-4c68-acbb-3a1099fb44e3",
   "metadata": {},
   "outputs": [],
   "source": [
    "def clean_zip(zipcode):\n",
    "    if pd.isna(zipcode):\n",
    "        return None\n",
    "    zipcode = str(zipcode).strip()\n",
    "    \n",
    "    # Extract the first 5 digits only (handles 9-digit ZIPs like 12345-6789)\n",
    "    match = re.match(r'^(\\d{5})', zipcode)\n",
    "    if match:\n",
    "        return match.group(1)\n",
    "    return None  # If it's not a valid ZIP, set as None\n",
    "\n",
    "df['EMPLOYER_POSTAL_CODE'] = df['EMPLOYER_POSTAL_CODE'].apply(clean_zip)"
   ]
  },
  {
   "cell_type": "code",
   "execution_count": 28,
   "id": "db8f2550-30a0-4939-9b20-eb3846c151fe",
   "metadata": {},
   "outputs": [],
   "source": [
    "df['EMPLOYER_CITY'] = df['EMPLOYER_CITY'].str.title().str.strip()"
   ]
  },
  {
   "cell_type": "code",
   "execution_count": 29,
   "id": "6b3721aa-67dc-488b-9d99-8221f2935340",
   "metadata": {},
   "outputs": [
    {
     "data": {
      "text/plain": [
       "EMPLOYER_CITY\n",
       "New York           39321\n",
       "Seattle            24972\n",
       "Chicago            21208\n",
       "Santa Clara        18857\n",
       "San Francisco      16652\n",
       "College Station    15374\n",
       "Mountain View      13811\n",
       "Redmond            12688\n",
       "San Jose           12664\n",
       "Rockville          12086\n",
       "Name: count, dtype: int64"
      ]
     },
     "execution_count": 29,
     "metadata": {},
     "output_type": "execute_result"
    }
   ],
   "source": [
    "df['EMPLOYER_CITY'].value_counts().head(10)"
   ]
  },
  {
   "cell_type": "code",
   "execution_count": 30,
   "id": "53e64570-2e0b-40dd-b9ba-b43b2cd25a5b",
   "metadata": {},
   "outputs": [
    {
     "data": {
      "text/plain": [
       "EMPLOYER_CITY\n",
       "78758                       32\n",
       "Charlotte, Nc, 28262        10\n",
       "27601                        6\n",
       "8816                         3\n",
       "Worcester, Ma 01605          3\n",
       "Pittsburgh, Pa 15212         3\n",
       "Ste. 201                     3\n",
       "48104                        2\n",
       "San Ramon, Ca 94583-1323     2\n",
       "Suite 104                    2\n",
       "Name: count, dtype: int64"
      ]
     },
     "execution_count": 30,
     "metadata": {},
     "output_type": "execute_result"
    }
   ],
   "source": [
    "# Find cities with any digit in them\n",
    "cities_with_numbers = df[df['EMPLOYER_CITY'].str.contains(r'\\d', na=False)]\n",
    "\n",
    "# Preview the results\n",
    "cities_with_numbers['EMPLOYER_CITY'].value_counts().head(10)"
   ]
  },
  {
   "cell_type": "code",
   "execution_count": 31,
   "id": "30d3bc44-ccb1-4a7c-9bde-371d27ddcec9",
   "metadata": {},
   "outputs": [],
   "source": [
    "zip_to_city = (\n",
    "    df[df['EMPLOYER_CITY'].str.match(r'^[a-zA-Z\\s\\-]+$', na=False)]  \n",
    "    .groupby('EMPLOYER_POSTAL_CODE')['EMPLOYER_CITY']\n",
    "    .agg(lambda x: x.value_counts().idxmax())\n",
    ")\n",
    "\n",
    "def clean_employer_city(row):\n",
    "    city = str(row['EMPLOYER_CITY']).strip()\n",
    "    \n",
    "    # If it's a ZIP code only\n",
    "    if re.fullmatch(r'\\d{5}', city):\n",
    "        return zip_to_city.get(city, None)\n",
    "    \n",
    "    # If it contains ZIP at the end (e.g. \"Charlotte, NC, 28262\")\n",
    "    zip_match = re.search(r'(\\d{5})(-\\d{4})?$', city)\n",
    "    if zip_match:\n",
    "        zip_code = zip_match.group(1)\n",
    "        return zip_to_city.get(zip_code, None)\n",
    "    \n",
    "    # If it starts with a number (address or suite)\n",
    "    if re.match(r'^\\d+', city) or 'suite' in city.lower() or 'ste' in city.lower():\n",
    "        return zip_to_city.get(row['EMPLOYER_POSTAL_CODE'], None)\n",
    "    \n",
    "    # If contains number (like Arcadia626 or Cupertino C#7020523)\n",
    "    if re.search(r'\\d', city):\n",
    "        return zip_to_city.get(row['EMPLOYER_POSTAL_CODE'], None)\n",
    "\n",
    "    return city  # Keep original if it looks clean"
   ]
  },
  {
   "cell_type": "code",
   "execution_count": 32,
   "id": "c07781a8-712a-44b7-b6cf-2820ad6ae000",
   "metadata": {},
   "outputs": [],
   "source": [
    "df['EMPLOYER_CITY'] = df.apply(clean_employer_city, axis=1)"
   ]
  },
  {
   "cell_type": "code",
   "execution_count": 33,
   "id": "e1e3dcd6-488f-440a-92a8-b4d6ce8a8e5d",
   "metadata": {},
   "outputs": [
    {
     "data": {
      "text/plain": [
       "Series([], Name: count, dtype: int64)"
      ]
     },
     "execution_count": 33,
     "metadata": {},
     "output_type": "execute_result"
    }
   ],
   "source": [
    "cities_with_numbers = df[df['EMPLOYER_CITY'].str.contains(r'\\d', na=False)]\n",
    "cities_with_numbers['EMPLOYER_CITY'].value_counts()"
   ]
  },
  {
   "cell_type": "code",
   "execution_count": 36,
   "id": "7457f143-25c0-4f6f-81ca-c9d7b5d5bab3",
   "metadata": {},
   "outputs": [],
   "source": [
    "# Cities that look real\n",
    "clean_city_list = df['EMPLOYER_CITY'].value_counts()\n",
    "clean_city_list = clean_city_list[clean_city_list > 10]  # at least 10 times\n",
    "clean_city_list = clean_city_list[~clean_city_list.index.str.contains(r'\\d')]"
   ]
  },
  {
   "cell_type": "code",
   "execution_count": 37,
   "id": "f7a8e4aa-1917-4c5a-819f-00c333e9139e",
   "metadata": {},
   "outputs": [],
   "source": [
    "# Find low-frequency or messy cities\n",
    "all_cities = df['EMPLOYER_CITY'].dropna().unique()\n",
    "suspicious_cities = [c for c in all_cities if c not in clean_city_list.index]\n",
    "\n",
    "# Create correction map\n",
    "city_correction_map = {}\n",
    "\n",
    "for city in suspicious_cities:\n",
    "    match, score, _ = process.extractOne(city, clean_city_list.index, scorer=fuzz.ratio)\n",
    "    if score >= 85:\n",
    "        city_correction_map[city] = match"
   ]
  },
  {
   "cell_type": "code",
   "execution_count": 38,
   "id": "bc38d5cc-f0a6-4328-8c11-847f7c0d6446",
   "metadata": {},
   "outputs": [],
   "source": [
    "df['EMPLOYER_CITY'] = df['EMPLOYER_CITY'].replace(city_correction_map)"
   ]
  },
  {
   "cell_type": "code",
   "execution_count": 39,
   "id": "0ff4b419-2cc8-495f-a765-3a21fcea368b",
   "metadata": {},
   "outputs": [
    {
     "data": {
      "text/plain": [
       "EMPLOYER_CITY\n",
       "New York          39328\n",
       "Seattle           24972\n",
       "Chicago           21208\n",
       "Santa Clara       18857\n",
       "San Francisco     16670\n",
       "                  ...  \n",
       "Stanton               1\n",
       "Wellsboro             1\n",
       "East Palo Alto        1\n",
       "Sugar Loaf            1\n",
       "Daniel Island         1\n",
       "Name: count, Length: 4988, dtype: int64"
      ]
     },
     "execution_count": 39,
     "metadata": {},
     "output_type": "execute_result"
    }
   ],
   "source": [
    "df['EMPLOYER_CITY'].value_counts()"
   ]
  },
  {
   "cell_type": "code",
   "execution_count": 40,
   "id": "8d995d1b-7b4c-4684-acec-be030005e1bc",
   "metadata": {},
   "outputs": [],
   "source": [
    "df = df[df['EMPLOYER_STATE'] != 'FM']"
   ]
  },
  {
   "cell_type": "code",
   "execution_count": 41,
   "id": "a9e03726-38e3-47cc-8783-b54a2cf2836b",
   "metadata": {},
   "outputs": [
    {
     "data": {
      "text/plain": [
       "EMPLOYER_STATE\n",
       "CA    134530\n",
       "TX     85812\n",
       "NJ     64718\n",
       "NY     51772\n",
       "WA     42612\n",
       "IL     35125\n",
       "MA     26865\n",
       "PA     22183\n",
       "VA     21858\n",
       "MI     20721\n",
       "Name: count, dtype: int64"
      ]
     },
     "execution_count": 41,
     "metadata": {},
     "output_type": "execute_result"
    }
   ],
   "source": [
    "df['EMPLOYER_STATE'].value_counts().head(10)"
   ]
  },
  {
   "cell_type": "code",
   "execution_count": 42,
   "id": "9214d74a-dee2-4119-acff-d7a457c15138",
   "metadata": {},
   "outputs": [
    {
     "data": {
      "text/plain": [
       "Series([], Name: count, dtype: int64)"
      ]
     },
     "execution_count": 42,
     "metadata": {},
     "output_type": "execute_result"
    }
   ],
   "source": [
    "# Show all unique values that don't match 2 uppercase letters\n",
    "invalid_states = df[~df['EMPLOYER_STATE'].str.fullmatch(r'[A-Z]{2}', na=False)]['EMPLOYER_STATE'].value_counts()\n",
    "invalid_states"
   ]
  },
  {
   "cell_type": "code",
   "execution_count": 43,
   "id": "8ecd4207-f5eb-4fb3-b506-da6f4679db19",
   "metadata": {},
   "outputs": [
    {
     "data": {
      "text/plain": [
       "0"
      ]
     },
     "execution_count": 43,
     "metadata": {},
     "output_type": "execute_result"
    }
   ],
   "source": [
    "df['EMPLOYER_STATE'].isna().sum()"
   ]
  },
  {
   "cell_type": "code",
   "execution_count": 44,
   "id": "198cca3e-465f-4bdd-a47c-aa57f910dbf6",
   "metadata": {},
   "outputs": [],
   "source": [
    "# Create mapping: abbreviation → full name\n",
    "abbrev_to_full = {state.abbr: state.name for state in us.states.STATES_AND_TERRITORIES}\n",
    "\n",
    "# Apply to your DataFrame\n",
    "df['EMPLOYER_STATE'] = df['EMPLOYER_STATE'].map(abbrev_to_full)"
   ]
  },
  {
   "cell_type": "code",
   "execution_count": 45,
   "id": "68b5aa1f-d01e-4d62-925f-fc20b86445fc",
   "metadata": {},
   "outputs": [
    {
     "data": {
      "text/plain": [
       "EMPLOYER_STATE\n",
       "California       134530\n",
       "Texas             85812\n",
       "New Jersey        64718\n",
       "New York          51772\n",
       "Washington        42612\n",
       "Illinois          35125\n",
       "Massachusetts     26865\n",
       "Pennsylvania      22183\n",
       "Virginia          21858\n",
       "Michigan          20721\n",
       "Name: count, dtype: int64"
      ]
     },
     "execution_count": 45,
     "metadata": {},
     "output_type": "execute_result"
    }
   ],
   "source": [
    "df['EMPLOYER_STATE'].value_counts().head(10)"
   ]
  },
  {
   "cell_type": "markdown",
   "id": "7131a856-d373-4cc2-8733-2e7fa6471152",
   "metadata": {},
   "source": [
    "#### **Wage**"
   ]
  },
  {
   "cell_type": "code",
   "execution_count": 46,
   "id": "60e46715-dd9e-47e1-a70c-cd6b70089fba",
   "metadata": {},
   "outputs": [
    {
     "data": {
      "text/plain": [
       "WAGE_UNIT_OF_PAY\n",
       "Year         642775\n",
       "Hour          43526\n",
       "Month          1388\n",
       "Week            680\n",
       "Bi-Weekly       436\n",
       "Name: count, dtype: int64"
      ]
     },
     "execution_count": 46,
     "metadata": {},
     "output_type": "execute_result"
    }
   ],
   "source": [
    "df['WAGE_UNIT_OF_PAY'].value_counts()"
   ]
  },
  {
   "cell_type": "code",
   "execution_count": 47,
   "id": "63a4dc48-5bc9-4951-bafd-2a2f2d5c1d95",
   "metadata": {},
   "outputs": [
    {
     "data": {
      "text/plain": [
       "PW_UNIT_OF_PAY\n",
       "Year         645149\n",
       "Hour          42603\n",
       "Month           795\n",
       "Bi-Weekly       134\n",
       "Week            124\n",
       "Name: count, dtype: int64"
      ]
     },
     "execution_count": 47,
     "metadata": {},
     "output_type": "execute_result"
    }
   ],
   "source": [
    "df['PW_UNIT_OF_PAY'].value_counts()"
   ]
  },
  {
   "cell_type": "code",
   "execution_count": 48,
   "id": "abc58597-2a49-4454-a36a-06e4fa2e9bc6",
   "metadata": {},
   "outputs": [],
   "source": [
    "unit_order = ['Hour', 'Week', 'Bi-Weekly', 'Month', 'Year']"
   ]
  },
  {
   "cell_type": "code",
   "execution_count": 49,
   "id": "483c91ad-a730-4c1f-9f7c-f358ff4da89f",
   "metadata": {},
   "outputs": [
    {
     "data": {
      "image/png": "[encoded data removed]",
      "text/plain": [
       "<Figure size 1200x600 with 1 Axes>"
      ]
     },
     "metadata": {},
     "output_type": "display_data"
    }
   ],
   "source": [
    "plt.figure(figsize=(12, 6))\n",
    "sns.boxplot(data=df, x='PW_UNIT_OF_PAY', y='PREVAILING_WAGE', order=unit_order)\n",
    "plt.yscale('log') \n",
    "plt.title('PREVAILING WAGE by Unit Type')\n",
    "plt.ylabel('Wage (log-scaled)')\n",
    "plt.xticks(rotation=15)\n",
    "plt.tight_layout()\n",
    "plt.show()"
   ]
  },
  {
   "cell_type": "code",
   "execution_count": 50,
   "id": "edec2b2d-29d4-4e86-9408-812cb9e92479",
   "metadata": {},
   "outputs": [],
   "source": [
    "df['PW_OUTLIER_RULE'] = (\n",
    "    ((df['PW_UNIT_OF_PAY'] == 'Hour') & (df['PREVAILING_WAGE'] > 1_000)) |\n",
    "    ((df['PW_UNIT_OF_PAY'] == 'Week') & (df['PREVAILING_WAGE'] > 20_000)) |\n",
    "    ((df['PW_UNIT_OF_PAY'] == 'Bi-Weekly') & (df['PREVAILING_WAGE'] > 40_000)) |\n",
    "    ((df['PW_UNIT_OF_PAY'] == 'Month') & (df['PREVAILING_WAGE'] > 50_000)) |\n",
    "    ((df['PW_UNIT_OF_PAY'] == 'Year') & (df['PREVAILING_WAGE'] > 1_000_000))\n",
    ")\n",
    "\n",
    "# Step 2: Convert suspected outliers to annual wage (assuming misreported units)\n",
    "df.loc[(df['PW_UNIT_OF_PAY'] == 'Hour') & df['PW_OUTLIER_RULE'], 'PREVAILING_WAGE'] *= 2080  # 40 hrs/week * 52 weeks\n",
    "df.loc[(df['PW_UNIT_OF_PAY'] == 'Week') & df['PW_OUTLIER_RULE'], 'PREVAILING_WAGE'] *= 52\n",
    "df.loc[(df['PW_UNIT_OF_PAY'] == 'Bi-Weekly') & df['PW_OUTLIER_RULE'], 'PREVAILING_WAGE'] *= 26\n",
    "df.loc[(df['PW_UNIT_OF_PAY'] == 'Month') & df['PW_OUTLIER_RULE'], 'PREVAILING_WAGE'] *= 12"
   ]
  },
  {
   "cell_type": "code",
   "execution_count": 51,
   "id": "49deea5f-baa2-4974-b92f-a0696a054034",
   "metadata": {},
   "outputs": [],
   "source": [
    "df.loc[df['PW_OUTLIER_RULE'], 'PW_UNIT_OF_PAY'] = 'Year'"
   ]
  },
  {
   "cell_type": "code",
   "execution_count": 52,
   "id": "e5c5220f-8b17-4313-b408-e0db9d0e25e4",
   "metadata": {},
   "outputs": [
    {
     "data": {
      "image/png": "[encoded data removed]",
      "text/plain": [
       "<Figure size 1200x600 with 1 Axes>"
      ]
     },
     "metadata": {},
     "output_type": "display_data"
    }
   ],
   "source": [
    "plt.figure(figsize=(12, 6))\n",
    "sns.boxplot(data=df, x='PW_UNIT_OF_PAY', y='PREVAILING_WAGE', order=unit_order)\n",
    "plt.yscale('log') \n",
    "plt.title('PREVAILING WAGE by Unit Type')\n",
    "plt.ylabel('Wage (log-scaled)')\n",
    "plt.xticks(rotation=15)\n",
    "plt.tight_layout()\n",
    "plt.show()"
   ]
  },
  {
   "cell_type": "code",
   "execution_count": 53,
   "id": "1a821678-89d3-472e-9bc2-df871f223ae6",
   "metadata": {},
   "outputs": [
    {
     "data": {
      "text/html": [
       "<div>\n",
       "<style scoped>\n",
       "    .dataframe tbody tr th:only-of-type {\n",
       "        vertical-align: middle;\n",
       "    }\n",
       "\n",
       "    .dataframe tbody tr th {\n",
       "        vertical-align: top;\n",
       "    }\n",
       "\n",
       "    .dataframe thead th {\n",
       "        text-align: right;\n",
       "    }\n",
       "</style>\n",
       "<table border=\"1\" class=\"dataframe\">\n",
       "  <thead>\n",
       "    <tr style=\"text-align: right;\">\n",
       "      <th></th>\n",
       "      <th>JOB_TITLE</th>\n",
       "      <th>EMPLOYER_NAME</th>\n",
       "      <th>PREVAILING_WAGE</th>\n",
       "    </tr>\n",
       "  </thead>\n",
       "  <tbody>\n",
       "    <tr>\n",
       "      <th>210526</th>\n",
       "      <td>Tools &amp; Automation Engineer</td>\n",
       "      <td>APPLE INC.</td>\n",
       "      <td>358639840.0</td>\n",
       "    </tr>\n",
       "    <tr>\n",
       "      <th>205555</th>\n",
       "      <td>Senior Systems Engineer</td>\n",
       "      <td>AMERICAN HONDA MOTOR CO., INC.</td>\n",
       "      <td>207638080.0</td>\n",
       "    </tr>\n",
       "    <tr>\n",
       "      <th>75772</th>\n",
       "      <td>Postdoctoral Scholar</td>\n",
       "      <td>UNIVERSITY OF CALIFORNIA, SAN FRANCISCO</td>\n",
       "      <td>155103520.0</td>\n",
       "    </tr>\n",
       "    <tr>\n",
       "      <th>535837</th>\n",
       "      <td>Spanish Dual Immersion Teacher</td>\n",
       "      <td>WASHINGTON COUNTY SCHOOL DISTRICT</td>\n",
       "      <td>99001760.0</td>\n",
       "    </tr>\n",
       "    <tr>\n",
       "      <th>18369</th>\n",
       "      <td>Attending Physician/Psychiatrist</td>\n",
       "      <td>PHYSICIAN AFFILIATE GROUP OF NY, PC</td>\n",
       "      <td>12854816.0</td>\n",
       "    </tr>\n",
       "    <tr>\n",
       "      <th>28345</th>\n",
       "      <td>Attending Physician/Psychiatrist</td>\n",
       "      <td>PHYSICIAN AFFILIATE GROUP OF NY, PC</td>\n",
       "      <td>12854816.0</td>\n",
       "    </tr>\n",
       "    <tr>\n",
       "      <th>637714</th>\n",
       "      <td>Attending Physician/Psychiatrist</td>\n",
       "      <td>PHYSICIAN AFFILIATE GROUP OF NY, PC</td>\n",
       "      <td>12854816.0</td>\n",
       "    </tr>\n",
       "    <tr>\n",
       "      <th>673017</th>\n",
       "      <td>Senior Software Engineer</td>\n",
       "      <td>PROSPER MARKETPLACE, INC.</td>\n",
       "      <td>10069956.0</td>\n",
       "    </tr>\n",
       "    <tr>\n",
       "      <th>215859</th>\n",
       "      <td>Lead Color Assist</td>\n",
       "      <td>THE HARBOR PICTURE COMPANY, INC.</td>\n",
       "      <td>5139212.0</td>\n",
       "    </tr>\n",
       "    <tr>\n",
       "      <th>212416</th>\n",
       "      <td>Senior Systems Engineer</td>\n",
       "      <td>MEDIDATA SOLUTIONS, INC.</td>\n",
       "      <td>2363660.0</td>\n",
       "    </tr>\n",
       "    <tr>\n",
       "      <th>323763</th>\n",
       "      <td>Jr Developer</td>\n",
       "      <td>GRITTER FRANCONA</td>\n",
       "      <td>2340000.0</td>\n",
       "    </tr>\n",
       "    <tr>\n",
       "      <th>327804</th>\n",
       "      <td>Jr Developer</td>\n",
       "      <td>GRITTER FRANCONA</td>\n",
       "      <td>2340000.0</td>\n",
       "    </tr>\n",
       "    <tr>\n",
       "      <th>678316</th>\n",
       "      <td>U.S. Chief Technology Sales Director</td>\n",
       "      <td>CLEVERIT CORP.</td>\n",
       "      <td>1944000.0</td>\n",
       "    </tr>\n",
       "    <tr>\n",
       "      <th>136285</th>\n",
       "      <td>Research Scientist</td>\n",
       "      <td>THE UNIVERSITY OF TEXAS M.D. ANDERSON CANCER C...</td>\n",
       "      <td>1154062.0</td>\n",
       "    </tr>\n",
       "  </tbody>\n",
       "</table>\n",
       "</div>"
      ],
      "text/plain": [
       "                                   JOB_TITLE  \\\n",
       "210526           Tools & Automation Engineer   \n",
       "205555               Senior Systems Engineer   \n",
       "75772                   Postdoctoral Scholar   \n",
       "535837        Spanish Dual Immersion Teacher   \n",
       "18369       Attending Physician/Psychiatrist   \n",
       "28345       Attending Physician/Psychiatrist   \n",
       "637714      Attending Physician/Psychiatrist   \n",
       "673017              Senior Software Engineer   \n",
       "215859                     Lead Color Assist   \n",
       "212416               Senior Systems Engineer   \n",
       "323763                         Jr Developer    \n",
       "327804                         Jr Developer    \n",
       "678316  U.S. Chief Technology Sales Director   \n",
       "136285                    Research Scientist   \n",
       "\n",
       "                                            EMPLOYER_NAME  PREVAILING_WAGE  \n",
       "210526                                         APPLE INC.      358639840.0  \n",
       "205555                     AMERICAN HONDA MOTOR CO., INC.      207638080.0  \n",
       "75772             UNIVERSITY OF CALIFORNIA, SAN FRANCISCO      155103520.0  \n",
       "535837                  WASHINGTON COUNTY SCHOOL DISTRICT       99001760.0  \n",
       "18369                 PHYSICIAN AFFILIATE GROUP OF NY, PC       12854816.0  \n",
       "28345                 PHYSICIAN AFFILIATE GROUP OF NY, PC       12854816.0  \n",
       "637714                PHYSICIAN AFFILIATE GROUP OF NY, PC       12854816.0  \n",
       "673017                          PROSPER MARKETPLACE, INC.       10069956.0  \n",
       "215859                   THE HARBOR PICTURE COMPANY, INC.        5139212.0  \n",
       "212416                           MEDIDATA SOLUTIONS, INC.        2363660.0  \n",
       "323763                                   GRITTER FRANCONA        2340000.0  \n",
       "327804                                   GRITTER FRANCONA        2340000.0  \n",
       "678316                                     CLEVERIT CORP.        1944000.0  \n",
       "136285  THE UNIVERSITY OF TEXAS M.D. ANDERSON CANCER C...        1154062.0  "
      ]
     },
     "execution_count": 53,
     "metadata": {},
     "output_type": "execute_result"
    }
   ],
   "source": [
    "high_yearly = df[\n",
    "    (df['PW_UNIT_OF_PAY'] == 'Year') &\n",
    "    (df['PREVAILING_WAGE'] > 1_000_000)\n",
    "]\n",
    "\n",
    "high_yearly[['JOB_TITLE', 'EMPLOYER_NAME', 'PREVAILING_WAGE']].sort_values(by='PREVAILING_WAGE', ascending=False)"
   ]
  },
  {
   "cell_type": "code",
   "execution_count": 54,
   "id": "3838f043-54cd-46ba-96c3-57e3c29367a9",
   "metadata": {},
   "outputs": [],
   "source": [
    "df['YEARLY_WAGE_SUSPECT'] = (\n",
    "    (df['PW_UNIT_OF_PAY'] == 'Year') & \n",
    "    (df['PREVAILING_WAGE'] > 1_000_000)\n",
    ")\n",
    "\n",
    "median_by_job = df[\n",
    "    (df['PW_UNIT_OF_PAY'] == 'Year') & \n",
    "    (df['PREVAILING_WAGE'] <= 1_000_000)\n",
    "].groupby('SOC_CODE')['PREVAILING_WAGE'].median()\n",
    "\n",
    "df.loc[df['YEARLY_WAGE_SUSPECT'], 'PREVAILING_WAGE'] = df.loc[\n",
    "    df['YEARLY_WAGE_SUSPECT'], 'SOC_CODE'\n",
    "].map(median_by_job)"
   ]
  },
  {
   "cell_type": "code",
   "execution_count": 55,
   "id": "54903a13-1510-4ba4-8c3c-24fdd31cbaf1",
   "metadata": {},
   "outputs": [
    {
     "data": {
      "image/png": "[encoded data removed]",
      "text/plain": [
       "<Figure size 1200x600 with 1 Axes>"
      ]
     },
     "metadata": {},
     "output_type": "display_data"
    }
   ],
   "source": [
    "plt.figure(figsize=(12, 6))\n",
    "sns.boxplot(data=df, x='PW_UNIT_OF_PAY', y='PREVAILING_WAGE', order=unit_order)\n",
    "plt.yscale('log') \n",
    "plt.title('PREVAILING WAGE by Unit Type')\n",
    "plt.ylabel('Wage (log-scaled)')\n",
    "plt.xticks(rotation=15)\n",
    "plt.tight_layout()\n",
    "plt.show()"
   ]
  },
  {
   "cell_type": "code",
   "execution_count": 56,
   "id": "6a370d87-2ac9-4050-a61f-591ead034271",
   "metadata": {},
   "outputs": [],
   "source": [
    "# Conversion dictionary\n",
    "unit_to_year = {\n",
    "    'Hour': 2080,\n",
    "    'Week': 52,\n",
    "    'Bi-Weekly': 26,\n",
    "    'Month': 12,\n",
    "    'Year': 1\n",
    "}\n",
    "\n",
    "# Define the unified function that does all steps together\n",
    "def normalize_and_reduce(row):\n",
    "    wu = row['WAGE_UNIT_OF_PAY']\n",
    "    pu = row['PW_UNIT_OF_PAY']\n",
    "    wage = row['WAGE_RATE_OF_PAY_FROM']\n",
    "    threshold = 5 * row['PREVAILING_WAGE']\n",
    "\n",
    "    # Step 1: convert if unit mismatch\n",
    "    if wu in unit_to_year and pu in unit_to_year and wu != pu:\n",
    "        yearly = wage * unit_to_year[wu]\n",
    "        wage = yearly / unit_to_year[pu]\n",
    "        wu = pu  # update unit to match\n",
    "\n",
    "    # Step 2: reduce if too high\n",
    "    while wage > threshold:\n",
    "        wage /= 10\n",
    "\n",
    "    return pd.Series([wage, wu])"
   ]
  },
  {
   "cell_type": "code",
   "execution_count": 57,
   "id": "a9c1fa9b-76ed-4238-b282-7559c99a95d4",
   "metadata": {},
   "outputs": [],
   "source": [
    "df[['WAGE_RATE_OF_PAY_FROM', 'WAGE_UNIT_OF_PAY']] = df.apply(normalize_and_reduce, axis=1)"
   ]
  },
  {
   "cell_type": "code",
   "execution_count": 58,
   "id": "b5ca62a1-81df-442b-9ef4-05d509ef624a",
   "metadata": {},
   "outputs": [
    {
     "data": {
      "image/png": "[encoded data removed]",
      "text/plain": [
       "<Figure size 1200x600 with 1 Axes>"
      ]
     },
     "metadata": {},
     "output_type": "display_data"
    }
   ],
   "source": [
    "plt.figure(figsize=(12, 6))\n",
    "sns.boxplot(data=df, x='WAGE_UNIT_OF_PAY', y='WAGE_RATE_OF_PAY_FROM', order=unit_order)\n",
    "plt.yscale('log')  # optional: log scale to compress outliers\n",
    "plt.title('WAGE RATE OF PAY FROM by Unit Type')\n",
    "plt.ylabel('Wage (log-scaled)')\n",
    "plt.xticks(rotation=15)\n",
    "plt.tight_layout()\n",
    "plt.show()"
   ]
  },
  {
   "cell_type": "code",
   "execution_count": 59,
   "id": "0ed146d2-60cc-413f-b723-da7bf4ee357a",
   "metadata": {},
   "outputs": [
    {
     "name": "stdout",
     "output_type": "stream",
     "text": [
      "Mismatched unit rows: 0\n"
     ]
    }
   ],
   "source": [
    "mismatch_count = (df['WAGE_UNIT_OF_PAY'] != df['PW_UNIT_OF_PAY']).sum()\n",
    "print(\"Mismatched unit rows:\", mismatch_count)"
   ]
  },
  {
   "cell_type": "code",
   "execution_count": 60,
   "id": "d2fc0298-9ca1-4394-9d64-049cdf1e5479",
   "metadata": {},
   "outputs": [
    {
     "data": {
      "text/plain": [
       "PW_WAGE_LEVEL\n",
       "II     278670\n",
       "III    132146\n",
       "I      126715\n",
       "IV      99457\n",
       "Name: count, dtype: int64"
      ]
     },
     "execution_count": 60,
     "metadata": {},
     "output_type": "execute_result"
    }
   ],
   "source": [
    "df['PW_WAGE_LEVEL'].value_counts()"
   ]
  },
  {
   "cell_type": "code",
   "execution_count": 61,
   "id": "793d3cde-4555-48d9-b3c0-d416e63b70d1",
   "metadata": {},
   "outputs": [
    {
     "data": {
      "text/plain": [
       "PW_OTHER_SOURCE\n",
       "Survey    38647\n",
       "CBA        8393\n",
       "DBA          77\n",
       "SCA          76\n",
       "Name: count, dtype: int64"
      ]
     },
     "execution_count": 61,
     "metadata": {},
     "output_type": "execute_result"
    }
   ],
   "source": [
    "df['PW_OTHER_SOURCE'].value_counts()"
   ]
  },
  {
   "cell_type": "code",
   "execution_count": 65,
   "id": "039c8299-7afa-416b-ad98-a992a768d75d",
   "metadata": {},
   "outputs": [],
   "source": [
    "df.drop(columns=[\"PW_OUTLIER_RULE\", \"YEARLY_WAGE_SUSPECT\"], inplace=True)"
   ]
  },
  {
   "cell_type": "code",
   "execution_count": 66,
   "id": "b929be2b-8ab8-42c7-8e78-4b6e7f2a09ca",
   "metadata": {},
   "outputs": [],
   "source": [
    "df.to_csv(\"LCA_Disclosure_Cleaned.csv\", index=False)"
   ]
  }
 ],
 "metadata": {
  "kernelspec": {
   "display_name": "Python [conda env:base] *",
   "language": "python",
   "name": "conda-base-py"
  },
  "language_info": {
   "codemirror_mode": {
    "name": "ipython",
    "version": 3
   },
   "file_extension": ".py",
   "mimetype": "text/x-python",
   "name": "python",
   "nbconvert_exporter": "python",
   "pygments_lexer": "ipython3",
   "version": "3.12.7"
  }
 },
 "nbformat": 4,
 "nbformat_minor": 5
}
